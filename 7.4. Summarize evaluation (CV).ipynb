{
 "cells": [
  {
   "cell_type": "code",
   "execution_count": null,
   "metadata": {},
   "outputs": [],
   "source": [
    "import os\n",
    "import pandas as pd\n",
    "import numpy as np\n",
    "\n",
    "# Constant\n",
    "BASE_COUNT = 1"
   ]
  },
  {
   "cell_type": "code",
   "execution_count": null,
   "metadata": {},
   "outputs": [],
   "source": [
    "sum_df_cv = pd.DataFrame(columns=['Name', 'Count', 'Accuracy', 'F1', 'Precision', 'Recall', 'ROC', 'Average'])\n",
    "\n",
    "for base_num in range(1, BASE_COUNT + 1):\n",
    "    other_df_cv = pd.read_json(\n",
    "        os.path.join('datasets', 'base_{}_evaluation_result_cv.json'.format(base_num)),\n",
    "    )\n",
    "\n",
    "    # The index should be an integer.\n",
    "    other_df_cv.index = other_df_cv.index.map(int)\n",
    "    other_df_cv.sort_index()\n",
    "\n",
    "    for index, row in other_df_cv.iterrows():\n",
    "        if not index in sum_df_cv.index:\n",
    "            sum_df_cv.loc[index] = [row[0], 0, 0.0, 0.0, 0.0, 0.0, 0.0, 0.0]\n",
    "\n",
    "        # Validation\n",
    "        sum_df_cv.loc[index, 'Name'] = row[0] if sum_df_cv.loc[index, 'Name'] == row[0] else 'Invalid'\n",
    "        \n",
    "        # Sum\n",
    "        sum_df_cv.loc[index, 'Count']     += 1\n",
    "        sum_df_cv.loc[index, 'Accuracy']  += row['Accuracy']\n",
    "        sum_df_cv.loc[index, 'F1']        += row['F1']\n",
    "        sum_df_cv.loc[index, 'Precision'] += row['Precision']\n",
    "        sum_df_cv.loc[index, 'Recall']    += row['Recall']\n",
    "        \n",
    "sum_df_cv['Accuracy']  = sum_df_cv.apply(lambda x: np.round(x['Accuracy']  / x['Count'], 4), axis=1)\n",
    "sum_df_cv['F1']        = sum_df_cv.apply(lambda x: np.round(x['F1']        / x['Count'], 4), axis=1)\n",
    "sum_df_cv['Precision'] = sum_df_cv.apply(lambda x: np.round(x['Precision'] / x['Count'], 4), axis=1)\n",
    "sum_df_cv['Recall']    = sum_df_cv.apply(lambda x: np.round(x['Recall']    / x['Count'], 4), axis=1)\n",
    "\n",
    "sum_df_cv['Average']   = sum_df_cv[['Accuracy', 'F1', 'Precision', 'Recall']].mean(axis=1)\n",
    "sum_df_cv['Average']   = sum_df_cv['Average'].apply(lambda x: np.round(x, 4))"
   ]
  },
  {
   "cell_type": "code",
   "execution_count": null,
   "metadata": {},
   "outputs": [],
   "source": [
    "# Visualize the scores.\n",
    "\n",
    "sum_df_cv.sort_values('Average', ascending=False)[['Name', 'Accuracy', 'Precision', 'Recall', 'F1', 'Average']].head(25)"
   ]
  },
  {
   "cell_type": "code",
   "execution_count": null,
   "metadata": {},
   "outputs": [],
   "source": [
    "# Standard deviation and other aggregates on F1.\n",
    "\n",
    "# Make an array like ['1', '2', ...] for every base.\n",
    "base_columns = [str(x) for x in range(1, BASE_COUNT + 1)]\n",
    "\n",
    "# Make an array of aggregates (human readable, function name).\n",
    "aggrs = [('Min', 'min'), ('Max', 'max'), ('Average', 'mean'), ('Std', 'std')]\n",
    "\n",
    "# Export the human readable names of aggregates.\n",
    "aggrs_names = [x[0] for x in aggrs]\n",
    "\n",
    "# Make a dataframe\n",
    "sum_f1_df_cv = pd.DataFrame(columns=['Name'] + base_columns + aggrs_names)\n",
    "\n",
    "for base_num in range(1, BASE_COUNT + 1):\n",
    "    # Read the base.\n",
    "    other_f1_df_cv = pd.read_json(\n",
    "        os.path.join('datasets', 'base_{}_evaluation_result_cv.json'.format(base_num)),\n",
    "    )\n",
    "\n",
    "    # The index should be an integer.\n",
    "    other_f1_df_cv.index = other_f1_df_cv.index.map(int)\n",
    "    other_f1_df_cv.sort_index()\n",
    "\n",
    "    # Iterate over every row (algorithm) in the base.\n",
    "    for index, row in other_f1_df_cv.iterrows():\n",
    "        # Add the name of the algorithm in the new DataFrame if it doesn't exist.\n",
    "        if not index in sum_f1_df_cv.index:\n",
    "            sum_f1_df_cv.loc[index] = [row[0]] + [0.0 for _ in base_columns] + [0.0 for _ in aggrs]\n",
    "\n",
    "        # Validation\n",
    "        sum_f1_df_cv.loc[index, 'Name'] = row[0] if sum_f1_df_cv.loc[index, 'Name'] == row[0] else 'Invalid'\n",
    "   \n",
    "        # F1 score for this algorithm and base.\n",
    "        sum_f1_df_cv.loc[index, str(base_num)] = row['F1']\n",
    "\n",
    "# Round all scores to 4 decimal places.\n",
    "for base_column in base_columns:\n",
    "    sum_f1_df_cv[base_column]  = sum_f1_df_cv[base_column].apply(lambda x: np.round(x, 4))\n",
    "\n",
    "# Aggregate using every function in 'aggrs' and round to 4 decimal places.\n",
    "for a in aggrs:\n",
    "    sum_f1_df_cv[a[0]]   = getattr(sum_f1_df_cv[base_columns], a[1])(axis=1)\n",
    "    sum_f1_df_cv[a[0]]   = sum_f1_df_cv[a[0]].apply(lambda x: np.round(x, 4))"
   ]
  },
  {
   "cell_type": "code",
   "execution_count": null,
   "metadata": {},
   "outputs": [],
   "source": [
    "# Visualize aggregates of F1 scores.\n",
    "\n",
    "sum_f1_df_cv.sort_values('Average', ascending=False)[['Name'] + base_columns + aggrs_names].head(25)"
   ]
  },
  {
   "cell_type": "code",
   "execution_count": null,
   "metadata": {},
   "outputs": [],
   "source": []
  }
 ],
 "metadata": {
  "kernelspec": {
   "display_name": "Python 3",
   "language": "python",
   "name": "python3"
  },
  "language_info": {
   "codemirror_mode": {
    "name": "ipython",
    "version": 3
   },
   "file_extension": ".py",
   "mimetype": "text/x-python",
   "name": "python",
   "nbconvert_exporter": "python",
   "pygments_lexer": "ipython3",
   "version": "3.6.5"
  }
 },
 "nbformat": 4,
 "nbformat_minor": 2
}
