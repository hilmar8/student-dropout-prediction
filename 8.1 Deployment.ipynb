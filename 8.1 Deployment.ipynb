{
 "cells": [
  {
   "cell_type": "code",
   "execution_count": null,
   "metadata": {},
   "outputs": [],
   "source": [
    "# Constants and imports.\n",
    "\n",
    "BASE_NUM = 1\n",
    "RANDOM_STATE = None\n",
    "CV = 5\n",
    "TEST_SIZE = 0.2\n",
    "\n",
    "import os\n",
    "import itertools\n",
    "import pandas as pd\n",
    "import numpy as np\n",
    "\n",
    "%matplotlib inline\n",
    "import matplotlib.pyplot as plt"
   ]
  },
  {
   "cell_type": "code",
   "execution_count": null,
   "metadata": {},
   "outputs": [],
   "source": [
    "# Load data.\n",
    "\n",
    "data = pd.read_csv(os.path.join('datasets', 'base_{}.csv'.format(BASE_NUM)), sep=';')\n",
    "\n",
    "data.head()"
   ]
  },
  {
   "cell_type": "code",
   "execution_count": null,
   "metadata": {},
   "outputs": [],
   "source": [
    "# Split train / test\n",
    "\n",
    "from sklearn.model_selection import StratifiedShuffleSplit\n",
    "\n",
    "split = StratifiedShuffleSplit(n_splits=1, test_size=TEST_SIZE, random_state=RANDOM_STATE)\n",
    "for train_index, test_index in split.split(data, data['DROPPED_OUT']):\n",
    "    train_set = data.loc[train_index]\n",
    "    test_set = data.loc[test_index]"
   ]
  },
  {
   "cell_type": "code",
   "execution_count": null,
   "metadata": {},
   "outputs": [],
   "source": [
    "# Verify that the training set has an equal split of students that dropped out and graduated.\n",
    "\n",
    "train_set['DROPPED_OUT'].value_counts() / len(train_set)"
   ]
  },
  {
   "cell_type": "code",
   "execution_count": null,
   "metadata": {},
   "outputs": [],
   "source": [
    "# Verify that the testing set has an equal split of students that dropped out and graduated.\n",
    "\n",
    "test_set['DROPPED_OUT'].value_counts() / len(test_set)"
   ]
  },
  {
   "cell_type": "code",
   "execution_count": null,
   "metadata": {},
   "outputs": [],
   "source": [
    "# Rename the training set to 'data' for convenience.\n",
    "\n",
    "data = train_set.copy()"
   ]
  },
  {
   "cell_type": "code",
   "execution_count": null,
   "metadata": {},
   "outputs": [],
   "source": [
    "data = train_set.drop(\"DROPPED_OUT\", axis=1) # drop labels for training set\n",
    "data_labels = train_set[\"DROPPED_OUT\"].copy()\n",
    "\n",
    "test_data = test_set.drop(\"DROPPED_OUT\", axis=1) # drop labels for testing set\n",
    "test_labels = test_set[\"DROPPED_OUT\"].copy()"
   ]
  },
  {
   "cell_type": "code",
   "execution_count": null,
   "metadata": {},
   "outputs": [],
   "source": [
    "# Pipeline for standard scaling and translating categories to numbers.\n",
    "\n",
    "from sklearn.pipeline import Pipeline\n",
    "from sklearn.preprocessing import StandardScaler, RobustScaler, Imputer\n",
    "\n",
    "from msc_preprocessing import CourseOfStudyNamer, CategoricalEncoder, DataFrameSelector\n",
    "from msc_preprocessing import ElementaryNameFixer, ElementarySchoolDistance\n",
    "from msc_preprocessing import NationalitySelector\n",
    "\n",
    "cat_attribs = ['COURSE_OF_STUDY', 'SCHOOL', 'NATIONALITY', ]\n",
    "\n",
    "num_attribs = list(data.drop(cat_attribs + ['ELEMENTARY_SCHOOL'], axis=1)) + ['ELEMENTARY_SCHOOL_DISTANCE']\n",
    "\n",
    "# A pipeline for numerical attributes.\n",
    "num_pipeline = Pipeline([\n",
    "        ('elementary_school_fix_names', ElementaryNameFixer()),\n",
    "        ('elementary_school_distance', ElementarySchoolDistance()),\n",
    "        ('selector', DataFrameSelector(num_attribs)), # Select only data that has numbers.\n",
    "        ('imputer', Imputer(strategy=\"median\")), # Replace NULL values with averages.\n",
    "        ('std_scaler', RobustScaler()), # Scale all numerical values to the same scale.\n",
    "    ])\n",
    "\n",
    "# A pipeline for categorial attributes.\n",
    "cat_pipeline = Pipeline([\n",
    "        ('course_of_study_fix_names', CourseOfStudyNamer()),\n",
    "        ('nationality_selector', NationalitySelector()),\n",
    "        ('selector', DataFrameSelector(cat_attribs)), # Select only data that has categories.\n",
    "        ('cat_encoder', CategoricalEncoder(encoding=\"onehot-dense\", handle_unknown='ignore')), # Translate categories to numbers.\n",
    "    ])"
   ]
  },
  {
   "cell_type": "code",
   "execution_count": null,
   "metadata": {},
   "outputs": [],
   "source": [
    "from sklearn.pipeline import FeatureUnion\n",
    "\n",
    "# Merge the numerical and categorical pipelines.\n",
    "full_pipeline = FeatureUnion(transformer_list=[\n",
    "        (\"num_pipeline\", num_pipeline),\n",
    "        (\"cat_pipeline\", cat_pipeline),\n",
    "    ])"
   ]
  },
  {
   "cell_type": "code",
   "execution_count": null,
   "metadata": {},
   "outputs": [],
   "source": [
    "# GradientBoostingClassifier with the optimized parameters.\n",
    "\n",
    "from sklearn.ensemble import GradientBoostingClassifier\n",
    "\n",
    "best_params = {'learning_rate': 0.1, 'max_depth': 4, 'n_estimators': 800}\n",
    "\n",
    "full_pipeline_with_predictor = Pipeline([\n",
    "        (\"preparation\", full_pipeline),\n",
    "        (\"cls\", GradientBoostingClassifier(random_state=RANDOM_STATE, **best_params))\n",
    "    ])"
   ]
  },
  {
   "cell_type": "code",
   "execution_count": null,
   "metadata": {},
   "outputs": [],
   "source": [
    "full_pipeline_with_predictor.fit(data, data_labels)"
   ]
  },
  {
   "cell_type": "code",
   "execution_count": null,
   "metadata": {},
   "outputs": [],
   "source": [
    "cls = full_pipeline_with_predictor.named_steps['cls']\n",
    "\n",
    "cls"
   ]
  },
  {
   "cell_type": "code",
   "execution_count": null,
   "metadata": {},
   "outputs": [],
   "source": [
    "#\n",
    "# Run test data (20% split).\n",
    "#\n",
    "\n",
    "from sklearn.metrics import roc_auc_score\n",
    "from sklearn.metrics import f1_score, accuracy_score\n",
    "from sklearn.metrics import confusion_matrix\n",
    "from sklearn.metrics import precision_score, recall_score\n",
    "from sklearn.metrics import roc_curve"
   ]
  },
  {
   "cell_type": "code",
   "execution_count": null,
   "metadata": {},
   "outputs": [],
   "source": [
    "#\n",
    "#\n",
    "# Performance of binary on test data (20% split).\n",
    "#\n",
    "#\n",
    "\n",
    "final_predictions = full_pipeline_with_predictor.predict(test_data)\n",
    "\n",
    "print('')\n",
    "print('ac', accuracy_score(test_labels, final_predictions))\n",
    "print('f1', f1_score(test_labels, final_predictions))\n",
    "print('pr', precision_score(test_labels, final_predictions))\n",
    "print('re', recall_score(test_labels, final_predictions))\n",
    "print('ro', roc_auc_score(test_labels, final_predictions))"
   ]
  },
  {
   "cell_type": "code",
   "execution_count": null,
   "metadata": {},
   "outputs": [],
   "source": [
    "#\n",
    "#\n",
    "# Performance of probability on test data (20% split).\n",
    "#\n",
    "#\n",
    "\n",
    "final_probability = full_pipeline_with_predictor.predict_proba(test_data)[:, 1]\n",
    "\n",
    "roc_auc_score(test_labels, final_probability)"
   ]
  },
  {
   "cell_type": "code",
   "execution_count": null,
   "metadata": {},
   "outputs": [],
   "source": [
    "fpr, tpr, thresholds = roc_curve(test_labels, final_probability)\n",
    "\n",
    "plt.plot(fpr, tpr, linewidth=2)\n",
    "plt.plot([0, 1], [0, 1], 'k--')\n",
    "plt.axis([0, 1, 0, 1])\n",
    "plt.xlabel('False positive rate')\n",
    "plt.ylabel('True positive rate')\n",
    "\n",
    "plt.show()"
   ]
  },
  {
   "cell_type": "code",
   "execution_count": null,
   "metadata": {},
   "outputs": [],
   "source": [
    "#\n",
    "# Export\n",
    "#\n",
    "from sklearn.externals import joblib\n",
    "\n",
    "joblib.dump(full_pipeline_with_predictor, \"my_model.pkl\")"
   ]
  },
  {
   "cell_type": "code",
   "execution_count": null,
   "metadata": {},
   "outputs": [],
   "source": []
  }
 ],
 "metadata": {
  "kernelspec": {
   "display_name": "Python 3",
   "language": "python",
   "name": "python3"
  },
  "language_info": {
   "codemirror_mode": {
    "name": "ipython",
    "version": 3
   },
   "file_extension": ".py",
   "mimetype": "text/x-python",
   "name": "python",
   "nbconvert_exporter": "python",
   "pygments_lexer": "ipython3",
   "version": "3.6.5"
  }
 },
 "nbformat": 4,
 "nbformat_minor": 2
}
